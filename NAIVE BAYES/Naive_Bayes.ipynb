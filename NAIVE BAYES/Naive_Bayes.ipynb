{
  "nbformat": 4,
  "nbformat_minor": 0,
  "metadata": {
    "colab": {
      "provenance": []
    },
    "kernelspec": {
      "name": "python3",
      "display_name": "Python 3"
    },
    "language_info": {
      "name": "python"
    }
  },
  "cells": [
    {
      "cell_type": "code",
      "execution_count": null,
      "metadata": {
        "colab": {
          "base_uri": "https://localhost:8080/"
        },
        "id": "zr2Y2HPRhJSK",
        "outputId": "5d3c2c07-904e-460a-92f5-012140fcd0f0"
      },
      "outputs": [
        {
          "output_type": "stream",
          "name": "stdout",
          "text": [
            "<class 'pandas.core.frame.DataFrame'>\n",
            "RangeIndex: 33 entries, 0 to 32\n",
            "Data columns (total 3 columns):\n",
            " #   Column    Non-Null Count  Dtype \n",
            "---  ------    --------------  ----- \n",
            " 0   Mensaje   33 non-null     object\n",
            " 1   Spam      33 non-null     object\n",
            " 2   Etiqueta  33 non-null     int64 \n",
            "dtypes: int64(1), object(2)\n",
            "memory usage: 924.0+ bytes\n"
          ]
        }
      ],
      "source": [
        "import pandas as pd\n",
        "df = pd.read_excel('Naive bayes.xlsx')\n",
        "df.info()"
      ]
    },
    {
      "cell_type": "code",
      "source": [
        "#Librerías\n",
        "\n",
        "import pandas as pd\n",
        "\n",
        "import numpy as np\n",
        "\n",
        "import seaborn as sns\n",
        "\n",
        "import matplotlib.pyplot as plt\n",
        "\n",
        "#El modelo de Naive bayes\n",
        "\n",
        "from sklearn.naive_bayes import MultinomialNB\n",
        "\n",
        "#Particionar el conjunto de entrenamiento y prueba\n",
        "\n",
        "from sklearn.model_selection import train_test_split\n",
        "\n",
        "#Librería para metricas\n",
        "\n",
        "from sklearn.metrics import classification_report, confusion_matrix\n",
        "\n",
        "#Tratar el texto\n",
        "\n",
        "from sklearn.feature_extraction.text import CountVectorizer\n",
        "\n",
        "import re"
      ],
      "metadata": {
        "id": "Q4u28S1xlHUp"
      },
      "execution_count": null,
      "outputs": []
    },
    {
      "cell_type": "code",
      "source": [
        "#datos\n",
        "\n",
        "df = pd.read_excel(\"Naive bayes.xlsx\")\n",
        "\n",
        "X = df['Mensaje'].tolist()\n",
        "\n",
        "y = df['Etiqueta'].tolist()\n",
        "\n",
        "Z = ['No spam','Spam']\n",
        "\n",
        "variable = 'mensaje'"
      ],
      "metadata": {
        "id": "CQYmVbxvlJko"
      },
      "execution_count": null,
      "outputs": []
    },
    {
      "cell_type": "code",
      "source": [
        "\n",
        "#preprocesamiento\n",
        "\n",
        "for i in range(len(X)):\n",
        "\n",
        "  X[i] = re.sub('[^\\w\\s]', '', X[i])\n",
        "\n",
        "  X[i] = X[i].lower()\n",
        "\n",
        "vectorizer = CountVectorizer()\n",
        "\n",
        "X_vectorized = vectorizer.fit_transform(X)"
      ],
      "metadata": {
        "id": "R1jO0UeIlL9P"
      },
      "execution_count": null,
      "outputs": []
    },
    {
      "cell_type": "code",
      "source": [
        "#entrenamiento\n",
        "\n",
        "X_train, X_test, y_train, y_test = train_test_split(X_vectorized, y, test_size=0.2, random_state=42)"
      ],
      "metadata": {
        "id": "dmUbKLmIlQ-U"
      },
      "execution_count": null,
      "outputs": []
    },
    {
      "cell_type": "code",
      "source": [
        "#modelo\n",
        "\n",
        "model = MultinomialNB()\n",
        "\n",
        "model.fit(X_train, y_train)\n",
        "\n",
        "y_pred = model.predict(X_test)"
      ],
      "metadata": {
        "id": "Y0h9KcwSlTYF"
      },
      "execution_count": null,
      "outputs": []
    },
    {
      "cell_type": "code",
      "source": [
        "#evaluar el modelo\n",
        "\n",
        "print(classification_report(y_test, y_pred))\n",
        "\n",
        "cm = confusion_matrix(y_test, y_pred)\n",
        "\n",
        "sns.heatmap(cm, annot=True, cmap='Blues', xticklabels=Z, yticklabels=Z)"
      ],
      "metadata": {
        "colab": {
          "base_uri": "https://localhost:8080/",
          "height": 609
        },
        "id": "nXvl1kK1lVvB",
        "outputId": "3308258d-a6d1-45b4-cd8d-1c70b7b2f297"
      },
      "execution_count": null,
      "outputs": [
        {
          "output_type": "stream",
          "name": "stdout",
          "text": [
            "              precision    recall  f1-score   support\n",
            "\n",
            "           0       0.33      1.00      0.50         1\n",
            "           1       1.00      0.67      0.80         6\n",
            "\n",
            "    accuracy                           0.71         7\n",
            "   macro avg       0.67      0.83      0.65         7\n",
            "weighted avg       0.90      0.71      0.76         7\n",
            "\n"
          ]
        },
        {
          "output_type": "execute_result",
          "data": {
            "text/plain": [
              "<Axes: >"
            ]
          },
          "metadata": {},
          "execution_count": 8
        },
        {
          "output_type": "display_data",
          "data": {
            "text/plain": [
              "<Figure size 640x480 with 2 Axes>"
            ],
            "image/png": "[encoded data removed]"
          },
          "metadata": {}
        }
      ]
    },
    {
      "cell_type": "code",
      "source": [
        "#Uso\n",
        "\n",
        "x_input = []\n",
        "\n",
        "x_input.append(input(\"Ingrese el mensaje: \"))\n",
        "\n",
        "x_input_vectorized = vectorizer.transform(x_input)\n",
        "\n",
        "y_pred = model.predict(x_input_vectorized)\n",
        "\n",
        "if y_pred[0] == 0:\n",
        "\n",
        "  print(\"El mensaje no es spam\")\n",
        "\n",
        "else:\n",
        "\n",
        "  print(\"El mensaje es spam\")"
      ],
      "metadata": {
        "colab": {
          "base_uri": "https://localhost:8080/"
        },
        "id": "eHS3oINTlYLB",
        "outputId": "013e72a3-f1dc-411c-e2fb-87d3c20a7ce8"
      },
      "execution_count": null,
      "outputs": [
        {
          "output_type": "stream",
          "name": "stdout",
          "text": [
            "Ingrese el mensaje: mañana es lunes\n",
            "El mensaje es spam\n"
          ]
        }
      ]
    }
  ]
}